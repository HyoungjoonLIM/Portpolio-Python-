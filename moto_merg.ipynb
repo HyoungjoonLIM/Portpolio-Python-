{
 "cells": [
  {
   "cell_type": "code",
   "execution_count": 2,
   "metadata": {},
   "outputs": [
    {
     "name": "stdout",
     "output_type": "stream",
     "text": [
      "Collecting jsonlines\n",
      "  Downloading jsonlines-1.2.0-py2.py3-none-any.whl (7.6 kB)\n",
      "Requirement already satisfied: six in /home/ec2-user/anaconda3/envs/python3/lib/python3.6/site-packages (from jsonlines) (1.14.0)\n",
      "Installing collected packages: jsonlines\n",
      "Successfully installed jsonlines-1.2.0\n",
      "\u001b[33mWARNING: You are using pip version 20.0.2; however, version 20.2.3 is available.\n",
      "You should consider upgrading via the '/home/ec2-user/anaconda3/envs/python3/bin/python -m pip install --upgrade pip' command.\u001b[0m\n",
      "Note: you may need to restart the kernel to use updated packages.\n"
     ]
    }
   ],
   "source": [
    "%pip install jsonlines"
   ]
  },
  {
   "cell_type": "code",
   "execution_count": 3,
   "metadata": {},
   "outputs": [],
   "source": [
    "import jsonlines\n",
    "import json\n",
    "import os\n",
    "import numpy as np"
   ]
  },
  {
   "cell_type": "markdown",
   "metadata": {},
   "source": [
    "1. box_output.manifest 는 오토바이 box를 라벨링한 manifest 파일\n",
    "2. moto_output.manifest 는 오토바이를 라벨링한 manifest 파일\n",
    "3. output.manifest 는 1,2번의 annotation을 합친 파일\n",
    "4. train.manifest 는 3번을 랜덤하게 재배열한 뒤 80%를 잘라낸 파일\n",
    "5. valid.manifest 는 3번을 랜덤하게 재배열한 뒤 20%를 잘라낸 파일\n",
    "6. _labeling_key 는 label 작업명입니다.\n",
    "    manifest파일내부의 key 값을 확인 후 수정해야합니다.\n",
    "\n",
    "## {\"source-ref\":\"s3://sagemaker-motorcycle-test/modified_data/image_batch/RQ1919553563_01.jpg\",\"v2-delivery-box-labeling\":{\"image_size\":[{\"width\":1280,\"height\":960,\"depth\":3}],\"annotations\":[{\"class_id\":1,\"top\":4,\"left\":509,\"height\":427,\"width\":497}]},\"v2-delivery-box-labeling-metadata\":{\"objects\":[{\"confidence\":0.09}],\"class-map\":{\"0\":\"delivery box\"},\"type\":\"groundtruth/object-detection\",\"human-annotated\":\"yes\",\"creation-date\":\"2020-09-22T06:27:53.293356\",\"job-name\":\"labeling-job/v2-delivery-box-labeling\"}}"
   ]
  },
  {
   "cell_type": "code",
   "execution_count": 5,
   "metadata": {},
   "outputs": [],
   "source": [
    "_manifest_path = 'manifest'\n",
    "_out_manifest_box = os.path.join(os.getcwd(),_manifest_path,'box_output.manifest')\n",
    "_out_manifest_moto = os.path.join(os.getcwd(),_manifest_path,'moto_output.manifest')\n",
    "_new_out_manifest = os.path.join(os.getcwd(),_manifest_path,'output.manifest')\n",
    "_augmented_manifest_filename_train = os.path.join(os.getcwd(),_manifest_path,'train.manifest')\n",
    "_augmented_manifest_filename_valid = os.path.join(os.getcwd(),_manifest_path,'valid.manifest')\n",
    "_labeling_key = 'v2-delivery-box-labeling'"
   ]
  },
  {
   "cell_type": "code",
   "execution_count": 6,
   "metadata": {},
   "outputs": [],
   "source": [
    "'''\n",
    "Json Line 포맷 파일을 읽고/쓰기\n",
    "'''\n",
    "def getJsonLines(fname):\n",
    "    with jsonlines.open(fname, 'r') as reader:\n",
    "        return list(reader)\n",
    "\n",
    "def createJsonLineFile(fname, data):\n",
    "    with open(fname,'w') as f:\n",
    "        for line in data:\n",
    "            f.write(json.dumps(line))\n",
    "            f.write('\\n')\n",
    "\n",
    "## {\"source-ref\":\"s3://sagemaker-motorcycle-test/modified_data/image_batch/RQ1919553563_01.jpg\",\"v2-delivery-box-labeling\":{\"image_size\":[{\"width\":1280,\"height\":960,\"depth\":3}],\"annotations\":[{\"class_id\":1,\"top\":4,\"left\":509,\"height\":427,\"width\":497}]},\"v2-delivery-box-labeling-metadata\":{\"objects\":[{\"confidence\":0.09}],\"class-map\":{\"0\":\"delivery box\"},\"type\":\"groundtruth/object-detection\",\"human-annotated\":\"yes\",\"creation-date\":\"2020-09-22T06:27:53.293356\",\"job-name\":\"labeling-job/v2-delivery-box-labeling\"}}"
   ]
  },
  {
   "cell_type": "code",
   "execution_count": 7,
   "metadata": {},
   "outputs": [],
   "source": [
    "'''\n",
    "Annotations Array 가져오기\n",
    "'''\n",
    "def findAnnotations(lists,ref):\n",
    "    for i, data in enumerate(lists):\n",
    "        if (data['source-ref'] == ref):\n",
    "            ##print(data['v2-delivery-box-labeling']['annotations'])\n",
    "            return data['v2-delivery-box-labeling']['annotations']\n",
    "    return []\n",
    "\n",
    "'''\n",
    "Annotations Array 에서 Class 정보 가져오기 \n",
    "'''\n",
    "def findAnnotation(lists,no):\n",
    "    for i, data in enumerate(lists):\n",
    "        if (data['class_id'] == no):\n",
    "            return data\n",
    "    return None\n",
    "\n",
    "'''\n",
    "두개의 manifest 파일을 합치는 기능\n",
    "file2의 class 1의 annotation 값을 file1에 추가합니다.\n",
    "'''\n",
    "def mergeJson(file1, file2):\n",
    "\n",
    "    box_lists = getJsonLines(file1)\n",
    "    moto_lists = getJsonLines(file2)\n",
    "\n",
    "    for i, data in enumerate(box_lists):\n",
    "        moto_dict = findAnnotation(findAnnotations(moto_lists,data['source-ref']),1)\n",
    "        if (moto_dict != None):\n",
    "            data[_labeling_key]['annotations'].append(moto_dict)\n",
    "            data[f'{_labeling_key}-metadata']['class-map'] =  {\"0\": \"delivery box\", \"1\":\"motocycle\"}\n",
    "            data[f'{_labeling_key}-metadata']['objects'].append({\"confidence\":0.09})\n",
    "\n",
    "    createJsonLineFile(_new_out_manifest, box_lists)\n",
    "    makeSplitJson(box_lists)\n",
    "\n",
    "'''\n",
    "Array에서 train 데이터와 validation 데이터 나누기\n",
    "'''\n",
    "\n",
    "def makeSplitJson(lines):\n",
    "\n",
    "    print(f'total count : {len(lines)}')\n",
    "    np.random.shuffle(lines)\n",
    "    dataset_size = len(lines)\n",
    "    num_train_samples = round(dataset_size * 0.8)\n",
    "\n",
    "    train_data = lines[:num_train_samples]\n",
    "    validation_data = lines[num_train_samples:]\n",
    "\n",
    "    print(f'train count : {len(train_data)}')\n",
    "    print(f'validation count :{len(validation_data)}')\n",
    "    createJsonLineFile(_new_out_manifest,lines)\n",
    "    createJsonLineFile(_augmented_manifest_filename_train,train_data)\n",
    "    createJsonLineFile(_augmented_manifest_filename_valid,validation_data)\n",
    "\n",
    "def main():\n",
    "    mergeJson(_out_manifest_box, _out_manifest_moto)"
   ]
  },
  {
   "cell_type": "markdown",
   "metadata": {},
   "source": [
    "두개의 output 파일을 합치기"
   ]
  },
  {
   "cell_type": "code",
   "execution_count": 9,
   "metadata": {},
   "outputs": [
    {
     "name": "stdout",
     "output_type": "stream",
     "text": [
      "total count : 2662\n",
      "train count : 2130\n",
      "validation count :532\n"
     ]
    }
   ],
   "source": [
    "main()"
   ]
  },
  {
   "cell_type": "code",
   "execution_count": null,
   "metadata": {},
   "outputs": [],
   "source": []
  }
 ],
 "metadata": {
  "kernelspec": {
   "display_name": "conda_python3",
   "language": "python",
   "name": "conda_python3"
  },
  "language_info": {
   "codemirror_mode": {
    "name": "ipython",
    "version": 3
   },
   "file_extension": ".py",
   "mimetype": "text/x-python",
   "name": "python",
   "nbconvert_exporter": "python",
   "pygments_lexer": "ipython3",
   "version": "3.6.10"
  }
 },
 "nbformat": 4,
 "nbformat_minor": 4
}
