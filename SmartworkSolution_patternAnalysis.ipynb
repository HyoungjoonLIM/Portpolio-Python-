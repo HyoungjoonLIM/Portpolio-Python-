{
 "cells": [
  {
   "cell_type": "markdown",
   "id": "12878d67",
   "metadata": {},
   "source": [
    "# Implementation of recommendation bot in MiWork \n",
    " - 2021-06-17, Hyoungjoon Lim @ jupyter notebook (python3, iOS)\n",
    " - Find task/job/reports registered repeatedly with a regular cycle (2021 1H) "
   ]
  },
  {
   "cell_type": "markdown",
   "id": "7f950a0a",
   "metadata": {},
   "source": [
    "## 1. Environment setting\n",
    "### 1-1. Package import"
   ]
  },
  {
   "cell_type": "code",
   "execution_count": 283,
   "id": "1db94c64",
   "metadata": {},
   "outputs": [],
   "source": [
    "from numpy import dot\n",
    "from numpy.linalg import norm\n",
    "import numpy as np\n",
    "import pandas as pd\n",
    "from sklearn.feature_extraction.text import TfidfVectorizer\n",
    "from sklearn.metrics.pairwise import linear_kernel\n",
    "from datetime import datetime"
   ]
  },
  {
   "cell_type": "markdown",
   "id": "9e99dba5",
   "metadata": {},
   "source": [
    "### 1-2. Function definition"
   ]
  },
  {
   "cell_type": "code",
   "execution_count": 260,
   "id": "c5c45623",
   "metadata": {},
   "outputs": [],
   "source": [
    "def cos_sim(text1, text2):\n",
    "    return dot(text1, text2)/(norm(text1)*norm(text2))"
   ]
  },
  {
   "cell_type": "code",
   "execution_count": 261,
   "id": "cb33e04d",
   "metadata": {},
   "outputs": [],
   "source": [
    "def matrix_to_ind(matrix):\n",
    "    res = np.array([])\n",
    "    for i in range(len(matrix)):\n",
    "        for j in range(len(matrix[0])):\n",
    "            tmp = [int(i),int(j),matrix[i][j]]\n",
    "            res = np.append(res, tmp)\n",
    "    res = pd.DataFrame(res.reshape(int(len(res)/len(tmp)),int(len(tmp))))\n",
    "    res = res.sort_values(by=[2], axis=0, ascending=False)\n",
    "    res = res.reset_index(drop=True)\n",
    "    res_m = res[res[2]>=0.4]\n",
    "    ind = list(set(res_m[0]))\n",
    "    \n",
    "    return ind"
   ]
  },
  {
   "cell_type": "code",
   "execution_count": 293,
   "id": "2cf617aa",
   "metadata": {},
   "outputs": [],
   "source": [
    "def tfidf_to_related_txt(data):\n",
    "    \n",
    "    id_data = list(set(data[data.columns[9]]))\n",
    "    \n",
    "    RESULT_data = np.array([])\n",
    "\n",
    "    for i in range(len(id_data)):\n",
    "\n",
    "        tmp_data = data[data[data.columns[9]]==id_data[i]]\n",
    "\n",
    "        tfidf_mat = tfidf.fit_transform(tmp_data[tmp_data.columns[1]])\n",
    "\n",
    "        cosine_sim = linear_kernel(tfidf_mat, tfidf_mat)\n",
    "\n",
    "        np.fill_diagonal(cosine_sim,0)\n",
    "\n",
    "        ind = matrix_to_ind(cosine_sim)\n",
    "\n",
    "        tmp_data = tmp_data.reset_index(drop=True)\n",
    "\n",
    "        result = np.array([])\n",
    "        \n",
    "        if len(ind)<=2: continue\n",
    "\n",
    "        for j in range(len(ind)):\n",
    "\n",
    "            tmp_res = [id_data[i], tmp_data.loc[ind[j]][tmp_data.columns[3]], tmp_data.loc[ind[j]][tmp_data.columns[1]]]\n",
    "\n",
    "            result = np.append(result, tmp_res)\n",
    "\n",
    "        RESULT_data = np.append(RESULT_data, result)\n",
    "\n",
    "#         print(i)\n",
    "\n",
    "    RESULT_data = RESULT_data.reshape(int(len(RESULT_data)/len(tmp_res)),int(len(tmp_res)))\n",
    "\n",
    "    RESULT_data = pd.DataFrame(RESULT_data)   \n",
    "\n",
    "    RESULT_data = RESULT_data.drop_duplicates()\n",
    "    \n",
    "    return RESULT_data"
   ]
  },
  {
   "cell_type": "markdown",
   "id": "315a5939",
   "metadata": {},
   "source": [
    "## 2. Data preprocessing\n",
    "### 2-1. Data upload"
   ]
  },
  {
   "cell_type": "code",
   "execution_count": 263,
   "id": "079f72eb",
   "metadata": {},
   "outputs": [],
   "source": [
    "working_dir = '/Users/hyoungjoonlim/Desktop/usingPython/data/'\n",
    "\n",
    "task = pd.read_csv(working_dir+'2106업무_패턴찾기.csv',encoding='CP949')\n",
    "task = task.drop(['업무중요도'],axis=1)\n",
    "job = pd.read_csv(working_dir+'2106세부업무_패턴찾기.csv',encoding='CP949')\n",
    "report = pd.read_csv(working_dir+'2106간단보고_패턴찾기.csv',encoding='CP949')\n",
    "report = report[['액티비티번호','액티비티내용','액티비티등록년월','액티비티등록일시','액티비티등록일자','액티비티등록자B레벨조직명',\n",
    "                 '액티비티등록자C레벨조직명','액티비티등록자D레벨조직명','액티비티등록자사원명','액티비티등록자사원번호','액티비티등록자직위명','액티비티등록자직책명']]"
   ]
  },
  {
   "cell_type": "markdown",
   "id": "f7a4007e",
   "metadata": {},
   "source": [
    "### 2-2. Identify data structure"
   ]
  },
  {
   "cell_type": "code",
   "execution_count": 264,
   "id": "25cd68e0",
   "metadata": {},
   "outputs": [
    {
     "name": "stdout",
     "output_type": "stream",
     "text": [
      "<class 'pandas.core.frame.DataFrame'>\n",
      "RangeIndex: 4846 entries, 0 to 4845\n",
      "Data columns (total 12 columns):\n",
      " #   Column       Non-Null Count  Dtype \n",
      "---  ------       --------------  ----- \n",
      " 0   업무번호         4846 non-null   object\n",
      " 1   업무명          4846 non-null   object\n",
      " 2   업무등록년월       4846 non-null   int64 \n",
      " 3   업무등록일시       4846 non-null   object\n",
      " 4   업무등록일자       4846 non-null   object\n",
      " 5   업무등록자B레벨조직명  4752 non-null   object\n",
      " 6   업무등록자C레벨조직명  3260 non-null   object\n",
      " 7   업무등록자D레벨조직명  4836 non-null   object\n",
      " 8   업무등록자사원명     4836 non-null   object\n",
      " 9   업무등록자사원번호    4846 non-null   int64 \n",
      " 10  업무등록자직위명     4835 non-null   object\n",
      " 11  업무등록자직책명     592 non-null    object\n",
      "dtypes: int64(2), object(10)\n",
      "memory usage: 454.4+ KB\n"
     ]
    }
   ],
   "source": [
    "task.info()"
   ]
  },
  {
   "cell_type": "code",
   "execution_count": 265,
   "id": "fba44587",
   "metadata": {},
   "outputs": [
    {
     "name": "stdout",
     "output_type": "stream",
     "text": [
      "<class 'pandas.core.frame.DataFrame'>\n",
      "RangeIndex: 21164 entries, 0 to 21163\n",
      "Data columns (total 12 columns):\n",
      " #   Column         Non-Null Count  Dtype \n",
      "---  ------         --------------  ----- \n",
      " 0   세부업무번호         21164 non-null  int64 \n",
      " 1   세부업무명          21164 non-null  object\n",
      " 2   세부업무등록년월       21164 non-null  int64 \n",
      " 3   세부업무등록일시       21164 non-null  object\n",
      " 4   세부업무등록일자       21164 non-null  object\n",
      " 5   세부업무등록자B레벨조직명  20028 non-null  object\n",
      " 6   세부업무등록자C레벨조직명  16269 non-null  object\n",
      " 7   세부업무등록자D레벨조직명  21127 non-null  object\n",
      " 8   세부업무등록자사원명     21127 non-null  object\n",
      " 9   세부업무등록자사원번호    21164 non-null  int64 \n",
      " 10  세부업무등록자직위명     20898 non-null  object\n",
      " 11  세부업무등록자직책명     2353 non-null   object\n",
      "dtypes: int64(3), object(9)\n",
      "memory usage: 1.9+ MB\n"
     ]
    }
   ],
   "source": [
    "job.info()"
   ]
  },
  {
   "cell_type": "code",
   "execution_count": 266,
   "id": "1910c3c5",
   "metadata": {},
   "outputs": [
    {
     "name": "stdout",
     "output_type": "stream",
     "text": [
      "<class 'pandas.core.frame.DataFrame'>\n",
      "RangeIndex: 5701 entries, 0 to 5700\n",
      "Data columns (total 12 columns):\n",
      " #   Column         Non-Null Count  Dtype \n",
      "---  ------         --------------  ----- \n",
      " 0   액티비티번호         5701 non-null   int64 \n",
      " 1   액티비티내용         5701 non-null   object\n",
      " 2   액티비티등록년월       5701 non-null   int64 \n",
      " 3   액티비티등록일시       5701 non-null   object\n",
      " 4   액티비티등록일자       5701 non-null   object\n",
      " 5   액티비티등록자B레벨조직명  5406 non-null   object\n",
      " 6   액티비티등록자C레벨조직명  4579 non-null   object\n",
      " 7   액티비티등록자D레벨조직명  5701 non-null   object\n",
      " 8   액티비티등록자사원명     5701 non-null   object\n",
      " 9   액티비티등록자사원번호    5701 non-null   int64 \n",
      " 10  액티비티등록자직위명     5396 non-null   object\n",
      " 11  액티비티등록자직책명     874 non-null    object\n",
      "dtypes: int64(3), object(9)\n",
      "memory usage: 534.6+ KB\n"
     ]
    }
   ],
   "source": [
    "report.info()"
   ]
  },
  {
   "cell_type": "code",
   "execution_count": 267,
   "id": "d85f7817",
   "metadata": {},
   "outputs": [
    {
     "data": {
      "text/plain": [
       "(0, 0, 0)"
      ]
     },
     "execution_count": 267,
     "metadata": {},
     "output_type": "execute_result"
    }
   ],
   "source": [
    "task['업무명'].isnull().sum(), job['세부업무명'].isnull().sum(), report['액티비티내용'].isnull().sum()"
   ]
  },
  {
   "cell_type": "markdown",
   "id": "b1c0699c",
   "metadata": {},
   "source": [
    "## 3. Evaluation of cosine similarity"
   ]
  },
  {
   "cell_type": "code",
   "execution_count": 268,
   "id": "05f2370b",
   "metadata": {},
   "outputs": [],
   "source": [
    "stopwords = ['.', '(', ')', ',', \"'\", '%', '-', 'X', ').', '×','의','자','에','안','번',\n",
    "                      '#','호','을','이','다','만','로','가','를']\n",
    "\n",
    "tfidf = TfidfVectorizer(stop_words=stopwords)"
   ]
  },
  {
   "cell_type": "markdown",
   "id": "795a8996",
   "metadata": {},
   "source": [
    "### 3-1. TF-IDF construction & Extraction of related texts"
   ]
  },
  {
   "cell_type": "code",
   "execution_count": 294,
   "id": "58cb34c7",
   "metadata": {},
   "outputs": [],
   "source": [
    "Result_task = tfidf_to_related_txt(task)\n",
    "\n",
    "Result_job = tfidf_to_related_txt(job)\n",
    "\n",
    "Result_report = tfidf_to_related_txt(report)"
   ]
  },
  {
   "cell_type": "code",
   "execution_count": 295,
   "id": "19279a16",
   "metadata": {},
   "outputs": [],
   "source": [
    "Result_task.to_csv('Result_task.csv', index=False, encoding='cp949')\n",
    "Result_job.to_csv('Result_job.csv', index=False, encoding='cp949')\n",
    "Result_report.to_csv('Result_report.csv', index=False, encoding='cp949')"
   ]
  }
 ],
 "metadata": {
  "kernelspec": {
   "display_name": "Python 3",
   "language": "python",
   "name": "python3"
  },
  "language_info": {
   "codemirror_mode": {
    "name": "ipython",
    "version": 3
   },
   "file_extension": ".py",
   "mimetype": "text/x-python",
   "name": "python",
   "nbconvert_exporter": "python",
   "pygments_lexer": "ipython3",
   "version": "3.8.10"
  }
 },
 "nbformat": 4,
 "nbformat_minor": 5
}
